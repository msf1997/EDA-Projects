{
  "nbformat": 4,
  "nbformat_minor": 0,
  "metadata": {
    "colab": {
      "private_outputs": true,
      "provenance": [],
      "collapsed_sections": [
        "vncDsAP0Gaoa",
        "FJNUwmbgGyua",
        "w6K7xa23Elo4",
        "PH-0ReGfmX4f",
        "O_i_v8NEhb9l",
        "HhfV-JJviCcP",
        "Y3lxredqlCYt",
        "3RnN4peoiCZX",
        "x71ZqKXriCWQ",
        "7hBIi_osiCS2",
        "JlHwYmJAmNHm",
        "35m5QtbWiB9F",
        "PoPl-ycgm1ru",
        "H0kj-8xxnORC",
        "nA9Y7ga8ng1Z",
        "PBTbrJXOngz2",
        "u3PMJOP6ngxN",
        "dauF4eBmngu3",
        "bKJF3rekwFvQ",
        "MSa1f5Uengrz",
        "GF8Ens_Soomf",
        "0wOQAZs5pc--",
        "K5QZ13OEpz2H",
        "lQ7QKXXCp7Bj",
        "448CDAPjqfQr",
        "KSlN3yHqYklG",
        "t6dVpIINYklI",
        "ijmpgYnKYklI",
        "-JiQyfWJYklI",
        "EM7whBJCYoAo",
        "fge-S5ZAYoAp",
        "85gYPyotYoAp",
        "RoGjAbkUYoAp",
        "4Of9eVA-YrdM",
        "iky9q4vBYrdO",
        "F6T5p64dYrdO",
        "y-Ehk30pYrdP",
        "bamQiAODYuh1",
        "QHF8YVU7Yuh3",
        "GwzvFGzlYuh3",
        "qYpmQ266Yuh3",
        "OH-pJp9IphqM",
        "bbFf2-_FphqN",
        "_ouA3fa0phqN",
        "Seke61FWphqN",
        "PIIx-8_IphqN",
        "t27r6nlMphqO",
        "r2jJGEOYphqO",
        "b0JNsNcRphqO",
        "BZR9WyysphqO",
        "jj7wYXLtphqO",
        "eZrbJ2SmphqO",
        "rFu4xreNphqO",
        "YJ55k-q6phqO",
        "gCFgpxoyphqP",
        "OVtJsKN_phqQ",
        "lssrdh5qphqQ",
        "U2RJ9gkRphqQ",
        "1M8mcRywphqQ",
        "tgIPom80phqQ",
        "JMzcOPDDphqR",
        "x-EpHcCOp1ci",
        "X_VqEhTip1ck",
        "8zGJKyg5p1ck",
        "PVzmfK_Ep1ck",
        "n3dbpmDWp1ck",
        "ylSl6qgtp1ck",
        "ZWILFDl5p1ck",
        "M7G43BXep1ck",
        "Ag9LCva-p1cl",
        "E6MkPsBcp1cl",
        "2cELzS2fp1cl",
        "3MPXvC8up1cl",
        "NC_X3p0fY2L0",
        "UV0SzAkaZNRQ",
        "YPEH6qLeZNRQ",
        "q29F0dvdveiT",
        "EXh0U9oCveiU",
        "22aHeOlLveiV",
        "JcMwzZxoAimU",
        "8G2x9gOozGDZ",
        "gCX9965dhzqZ",
        "gIfDvo9L0UH2"
      ],
      "include_colab_link": true
    },
    "kernelspec": {
      "name": "python3",
      "display_name": "Python 3"
    },
    "language_info": {
      "name": "python"
    }
  },
  "cells": [
    {
      "cell_type": "markdown",
      "metadata": {
        "id": "view-in-github",
        "colab_type": "text"
      },
      "source": [
        "<a href=\"https://colab.research.google.com/github/msf1997/EDA-Projects/blob/main/EDA_of_Hotel_Booking_Analysis.ipynb\" target=\"_parent\"><img src=\"https://colab.research.google.com/assets/colab-badge.svg\" alt=\"Open In Colab\"/></a>"
      ]
    },
    {
      "cell_type": "markdown",
      "source": [
        "# **Project Name**    - Hotel Booking Analysis**\n",
        "\n"
      ],
      "metadata": {
        "id": "vncDsAP0Gaoa"
      }
    },
    {
      "cell_type": "markdown",
      "source": [
        "##### **Project Type**    - EDA/Regression/Classification/Unsupervised\n",
        "##### **Contribution**    - Individual\n"
      ],
      "metadata": {
        "id": "beRrZCGUAJYm"
      }
    },
    {
      "cell_type": "code",
      "source": [],
      "metadata": {
        "id": "JbILiDLf0QbO"
      },
      "execution_count": null,
      "outputs": []
    },
    {
      "cell_type": "markdown",
      "source": [
        "# **Project Summary -**"
      ],
      "metadata": {
        "id": "FJNUwmbgGyua"
      }
    },
    {
      "cell_type": "markdown",
      "source": [
        "This is an Unsupervised Machine Learning project. This hotel booking dataset contains information related to hotel bookings, including various attributes that provide insights into customer behavior, booking patterns, and hotel performance. I will have to build a model that can be capable of clustring different type of data. In this dataset i have 119390 rows, 32 columns. In these columns every column repersent the different data of hotel. In this dataset i have 2 type of hotels that is resort Hotel & City Hotel. I analyse data clean the data take that data what i need for making the model and build a capable model.\n",
        "\n"
      ],
      "metadata": {
        "id": "F6v_1wHtG2nS"
      }
    },
    {
      "cell_type": "markdown",
      "source": [
        "# **GitHub Link -** [EDA_of_Hotel_Booking_Analysis.ipynb](https://github.com/msf1997/EDA-Projects/blob/main/EDA_of_Hotel_Booking_Analysis.ipynb)"
      ],
      "metadata": {
        "id": "w6K7xa23Elo4"
      }
    },
    {
      "cell_type": "markdown",
      "source": [
        "Provide your GitHub Link here."
      ],
      "metadata": {
        "id": "h1o69JH3Eqqn"
      }
    },
    {
      "cell_type": "markdown",
      "source": [
        "# **Problem Statement**\n"
      ],
      "metadata": {
        "id": "yQaldy8SH6Dl"
      }
    },
    {
      "cell_type": "markdown",
      "source": [
        "The dataset contains diverse information about hotel bookings, including details about the guests, booking patterns, room preferences, market segments, cancellations, and special requests. This dataset can be utilized for various analyses to understand booking trends, customer behavior, and factors influencing hotel occupancy and revenue."
      ],
      "metadata": {
        "id": "DpeJGUA3kjGy"
      }
    },
    {
      "cell_type": "markdown",
      "source": [
        "#### **Define Your Business Objective?**"
      ],
      "metadata": {
        "id": "PH-0ReGfmX4f"
      }
    },
    {
      "cell_type": "markdown",
      "source": [
        "Analyse Data to know when the best time of year guest comes"
      ],
      "metadata": {
        "id": "PhDvGCAqmjP1"
      }
    },
    {
      "cell_type": "markdown",
      "source": [
        "## **General Guidelines** : -  **bold text**\n",
        "\n"
      ],
      "metadata": {
        "id": "mDgbUHAGgjLW"
      }
    },
    {
      "cell_type": "markdown",
      "source": [
        "1.   Well-structured, formatted, and commented code is required.\n",
        "2.   Exception Handling, Production Grade Code & Deployment Ready Code will be a plus. Those students will be awarded some additional credits.\n",
        "     \n",
        "     The additional credits will have advantages over other students during Star Student selection.\n",
        "       \n",
        "             [ Note: - Deployment Ready Code is defined as, the whole .ipynb notebook should be executable in one go\n",
        "                       without a single error logged. ]\n",
        "\n",
        "3.   Each and every logic should have proper comments.\n",
        "4. You may add as many number of charts you want. Make Sure for each and every chart the following format should be answered.\n",
        "        \n",
        "\n",
        "```\n",
        "# Chart visualization code\n",
        "```\n",
        "            \n",
        "\n",
        "*   Why did you pick the specific chart?\n",
        "*   What is/are the insight(s) found from the chart?\n",
        "* Will the gained insights help creating a positive business impact?\n",
        "Are there any insights that lead to negative growth? Justify with specific reason.\n",
        "\n",
        "5. You have to create at least 20 logical & meaningful charts having important insights.\n",
        "\n",
        "\n",
        "[ Hints : - Do the Vizualization in  a structured way while following \"UBM\" Rule.\n",
        "\n",
        "U - Univariate Analysis,\n",
        "\n",
        "B - Bivariate Analysis (Numerical - Categorical, Numerical - Numerical, Categorical - Categorical)\n",
        "\n",
        "M - Multivariate Analysis\n",
        " ]\n",
        "\n",
        "\n",
        "\n"
      ],
      "metadata": {
        "id": "ZrxVaUj-hHfC"
      }
    },
    {
      "cell_type": "markdown",
      "source": [
        "# ***Let's Begin !***"
      ],
      "metadata": {
        "id": "O_i_v8NEhb9l"
      }
    },
    {
      "cell_type": "markdown",
      "source": [
        "## ***1. Know Your Data***"
      ],
      "metadata": {
        "id": "HhfV-JJviCcP"
      }
    },
    {
      "cell_type": "markdown",
      "source": [
        "### Import Libraries"
      ],
      "metadata": {
        "id": "Y3lxredqlCYt"
      }
    },
    {
      "cell_type": "code",
      "source": [
        "import numpy as np\n",
        "import pandas as pd\n",
        "import seaborn as sns\n",
        "import matplotlib.pyplot as plt"
      ],
      "metadata": {
        "id": "M8Vqi-pPk-HR"
      },
      "execution_count": null,
      "outputs": []
    },
    {
      "cell_type": "markdown",
      "source": [
        "### Dataset Loading"
      ],
      "metadata": {
        "id": "3RnN4peoiCZX"
      }
    },
    {
      "cell_type": "code",
      "source": [
        "from google.colab import drive\n",
        "drive.mount('/content/drive')"
      ],
      "metadata": {
        "id": "4CkvbW_SlZ_R"
      },
      "execution_count": null,
      "outputs": []
    },
    {
      "cell_type": "code",
      "source": [
        "df = pd.read_csv('/content/drive/MyDrive/Hotel Bookings.csv')"
      ],
      "metadata": {
        "id": "Cr35OPEvSYkR"
      },
      "execution_count": null,
      "outputs": []
    },
    {
      "cell_type": "markdown",
      "source": [
        "### Dataset First View"
      ],
      "metadata": {
        "id": "x71ZqKXriCWQ"
      }
    },
    {
      "cell_type": "code",
      "source": [
        "# Dataset First Look\n",
        "df.head()"
      ],
      "metadata": {
        "id": "LWNFOSvLl09H"
      },
      "execution_count": null,
      "outputs": []
    },
    {
      "cell_type": "markdown",
      "source": [
        "### Dataset Rows & Columns count"
      ],
      "metadata": {
        "id": "7hBIi_osiCS2"
      }
    },
    {
      "cell_type": "code",
      "source": [
        "# Dataset Rows & Columns count\n",
        "df.shape"
      ],
      "metadata": {
        "id": "Kllu7SJgmLij"
      },
      "execution_count": null,
      "outputs": []
    },
    {
      "cell_type": "markdown",
      "source": [
        "### Dataset Information"
      ],
      "metadata": {
        "id": "JlHwYmJAmNHm"
      }
    },
    {
      "cell_type": "code",
      "source": [
        "# Dataset Info\n",
        "df.info()"
      ],
      "metadata": {
        "id": "e9hRXRi6meOf"
      },
      "execution_count": null,
      "outputs": []
    },
    {
      "cell_type": "markdown",
      "source": [
        "#### Duplicate Values"
      ],
      "metadata": {
        "id": "35m5QtbWiB9F"
      }
    },
    {
      "cell_type": "code",
      "source": [
        "# Dataset Duplicate Value Count\n",
        "len(df[df.duplicated()])"
      ],
      "metadata": {
        "id": "1sLdpKYkmox0"
      },
      "execution_count": null,
      "outputs": []
    },
    {
      "cell_type": "markdown",
      "source": [
        "#### Missing Values/Null Values"
      ],
      "metadata": {
        "id": "PoPl-ycgm1ru"
      }
    },
    {
      "cell_type": "code",
      "source": [
        "# Missing Values/Null Values Count\n",
        "df.isnull().sum()"
      ],
      "metadata": {
        "id": "GgHWkxvamxVg"
      },
      "execution_count": null,
      "outputs": []
    },
    {
      "cell_type": "code",
      "source": [
        "# Visualizing the missing values\n",
        "sns.barplot(df.isnull())"
      ],
      "metadata": {
        "id": "3q5wnI3om9sJ"
      },
      "execution_count": null,
      "outputs": []
    },
    {
      "cell_type": "markdown",
      "source": [
        "### What did you know about your dataset?"
      ],
      "metadata": {
        "id": "H0kj-8xxnORC"
      }
    },
    {
      "cell_type": "markdown",
      "source": [
        "The given dataset is from the Hotel Business, and we have to analysis the insights customers data behind it. The goal is\n",
        "to analyse or understand the data is in which year, Date or time When most customers come and most bookings are done.\n",
        "\n",
        "The above dataset has 1193390 rows and 32 columns. There are some mising values in 3 columns and 31994 duplicate values in the dataset."
      ],
      "metadata": {
        "id": "gfoNAAC-nUe_"
      }
    },
    {
      "cell_type": "markdown",
      "source": [
        "## ***2. Understanding Your Variables***"
      ],
      "metadata": {
        "id": "nA9Y7ga8ng1Z"
      }
    },
    {
      "cell_type": "code",
      "source": [
        "# Dataset Columns\n",
        "df.columns"
      ],
      "metadata": {
        "id": "j7xfkqrt5Ag5"
      },
      "execution_count": null,
      "outputs": []
    },
    {
      "cell_type": "code",
      "source": [
        "# Dataset Describe\n",
        "df.describe()"
      ],
      "metadata": {
        "id": "DnOaZdaE5Q5t"
      },
      "execution_count": null,
      "outputs": []
    },
    {
      "cell_type": "markdown",
      "source": [
        "### Variables Description"
      ],
      "metadata": {
        "id": "PBTbrJXOngz2"
      }
    },
    {
      "cell_type": "markdown",
      "source": [
        "*   **hotel** : representing the type of hotel\n",
        "*   **is_canceled** : booking was canceled (1) or not (0)\n",
        "*   **lead_time** : Number of days between the booking date and the arrival date.\n",
        "*   **arrival_date_year** : year of the arrival date.\n",
        "*   **arrival_date_month** : month of the arrival date.\n",
        "*   **arrival_date_weak_number** : number of week's of the year for the arrival date.\n",
        "*   **arrival_date_day_of_month** : day of the month for the arrival date.\n",
        "*   **stays_in_weekend_nights** : Number of weekend nights (Saturday or Sunday) the guest stayed.\n",
        "*   **stays_in_week_nights** : Number of weekday nights (Monday to Friday) the guest stayed.\n",
        "*   **adults** : Number of bookings by Adult.\n",
        "*   **children** : Number of children in the booking.\n",
        "*   **babies** : number of babies in the booking.\n",
        "*   **meal** : Type of meal booked by guests.\n",
        "*   **country** : Country of origin of the guest.\n",
        "*   **market_segment** : Type of Guests (e.g., Online Travel Agent, Corporate, etc.).\n",
        "*   **distribution_channel** : Way of room booking (e.g., Direct, Travel Agents).\n",
        "*   **is_repeated_guest** : repeated guest (1) or not (0).\n",
        "*   **previous_cancellations** : Number of previous bookings that were canceled by the guest.\n",
        "*   **previous_bookings_not_canceled** : Number of previous bookings that were not canceled by the guest.\n",
        "*   **reserved_room_type** : Code of the room type reserved.\n",
        "*   **assigned_room_type** : Code of the room type assigned to the guest.\n",
        "*   **booking_changes** : Number of changes made to the booking by guests.\n",
        "*   **deposit_type** : Type of deposit made (e.g. No Deposit, Non-Refundable, Refundable).\n",
        "*   **agent** :  ID of the travel agency that made the booking.\n",
        "*   **company** :  ID of the company or entity that made the booking.\n",
        "*   **days_in_waiting_list** : Number of days the booking was in the waiting list before confirmed.\n",
        "*   **customer_type** : Type of booking (e.g., Transient, Contract, Group).\n",
        "*   **adr** : Average Daily Rate, the average price per night for the booking.\n",
        "*   **required_car_parking_spaces** :  Number of car parking spaces requested by the guest.\n",
        "*   **total_of_special_requests** : Number of special requests made by the guest.\n",
        "*   **reservation_status** : Status of the booking (e.g., Check-Out, Canceled).\n",
        "*   **reservation_status_date** : Date when the reservation status was last updated."
      ],
      "metadata": {
        "id": "aJV4KIxSnxay"
      }
    },
    {
      "cell_type": "markdown",
      "source": [
        "### Check Unique Values for each variable."
      ],
      "metadata": {
        "id": "u3PMJOP6ngxN"
      }
    },
    {
      "cell_type": "code",
      "source": [
        "# Check Unique Values for each variable.\n",
        "for i in df.columns:\n",
        "  print(f\"No. of unique values in {i} is {df[i].nunique()}.\")"
      ],
      "metadata": {
        "id": "zms12Yq5n-jE"
      },
      "execution_count": null,
      "outputs": []
    },
    {
      "cell_type": "markdown",
      "source": [
        "## 3. ***Data Wrangling***"
      ],
      "metadata": {
        "id": "dauF4eBmngu3"
      }
    },
    {
      "cell_type": "markdown",
      "source": [
        "### Data Wrangling Code"
      ],
      "metadata": {
        "id": "bKJF3rekwFvQ"
      }
    },
    {
      "cell_type": "code",
      "source": [
        "# Write your code to make your dataset analysis ready.\n",
        "\n",
        "df.dropna(inplace=True)\n",
        "\n",
        "month_dict = {\n",
        "        'January': 1, 'February': 2, 'March': 3, 'April': 4, 'May': 5, 'June': 6,\n",
        "        'July': 7, 'August': 8, 'September': 9, 'October': 10, 'November': 11, 'December': 12\n",
        "    }\n",
        "df['arrival_date_month'] = df['arrival_date_month'].map(month_dict)\n",
        "\n",
        "df.drop(['reservation_status', 'reservation_status_date'], axis=1, inplace=True)\n",
        "\n",
        "df['total_guests'] = df['adults'] + df['children'] + df['babies']\n",
        "\n",
        "df = df[df['adr'] >= 0]\n",
        "\n",
        "df.drop_duplicates(inplace=True)\n"
      ],
      "metadata": {
        "id": "wk-9a2fpoLcV"
      },
      "execution_count": null,
      "outputs": []
    },
    {
      "cell_type": "code",
      "source": [
        "df.to_csv(\"cleaned_dataset.csv\", index=False)"
      ],
      "metadata": {
        "id": "Uv5Hg3X4bp6h"
      },
      "execution_count": null,
      "outputs": []
    },
    {
      "cell_type": "markdown",
      "source": [
        "### What all manipulations have you done and insights you found?"
      ],
      "metadata": {
        "id": "MSa1f5Uengrz"
      }
    },
    {
      "cell_type": "markdown",
      "source": [
        "1. Handling Missing Values: Check for missing values in each column and decide whether to drop rows with missing values or impute them based on the context and impact on the analysis.\n",
        "\n",
        "2. Data Type Conversion: Convert columns with incorrect data types (e.g., date columns) to their appropriate data types (e.g., datetime).\n",
        "\n",
        "3. Data Filtering: Remove irrelevant or redundant columns that do not contribute to the analysis.\n",
        "\n",
        "4. Outlier Detection: Identify and handle outliers that might impact the analysis and insights.\n",
        "\n",
        "5. Data Grouping and Aggregation: Group data based on certain columns and calculate summary statistics to gain insights.\n",
        "\n",
        "6. Booking Trends: Analyze the booking patterns over the years, months, and weeks.\n",
        "\n",
        "7. Cancellation Analysis: Understand the factors affecting cancellations and identify trends.\n",
        "\n",
        "8. Hotel Occupancy: Calculate hotel occupancy rates based on the number of guests and room types.\n",
        "\n",
        "9. Market Segments: Identify popular market segments and their contribution to bookings.\n",
        "\n",
        "10. Customer Type Analysis: Analyze the preferences of different customer types (e.g., transient, contract, group).\n",
        "\n",
        "11. Average Daily Rate (ADR) Trends: Examine the ADR trends over time and across different hotel types.\n",
        "\n",
        "12. Room Type Analysis: Analyze the popularity and demand for different room types.\n",
        "\n",
        "13. Special Requests: Investigate the relationship between special requests and booking status.\n",
        "\n",
        "14. Customer Origin: Study the distribution of guests' countries of origin."
      ],
      "metadata": {
        "id": "LbyXE7I1olp8"
      }
    },
    {
      "cell_type": "markdown",
      "source": [
        "## ***4. Data Vizualization, Storytelling & Experimenting with charts : Understand the relationships between variables***"
      ],
      "metadata": {
        "id": "GF8Ens_Soomf"
      }
    },
    {
      "cell_type": "markdown",
      "source": [
        "#### Chart - 1"
      ],
      "metadata": {
        "id": "0wOQAZs5pc--"
      }
    },
    {
      "cell_type": "code",
      "source": [
        "# Chart - 1 visualization code\n",
        "\n",
        "# Count the occurrences of each 'hotel' category\n",
        "hotel_counts = df['hotel'].value_counts()\n",
        "\n",
        "# Create a bar chart using Seaborn\n",
        "plt.figure(figsize=(8, 6))\n",
        "sns.barplot(x=hotel_counts.index, y=hotel_counts.values)\n",
        "plt.xlabel('Hotel Type')\n",
        "plt.ylabel('Count')\n",
        "plt.title('Distribution of Hotel Types')\n",
        "plt.show()\n"
      ],
      "metadata": {
        "id": "7v_ESjsspbW7"
      },
      "execution_count": null,
      "outputs": []
    },
    {
      "cell_type": "markdown",
      "source": [
        "##### 1. Why did you pick the specific chart?"
      ],
      "metadata": {
        "id": "K5QZ13OEpz2H"
      }
    },
    {
      "cell_type": "markdown",
      "source": [
        "I picked the specific bar chart, based on the information available in the dataset and the visualization objective.\n",
        "\n",
        "The ****hotel**** variable is categorical data representing different types of hotels (e.g., resort hotel, city hotel). Bar charts are commonly used to visualize the distribution of categorical variables."
      ],
      "metadata": {
        "id": "XESiWehPqBRc"
      }
    },
    {
      "cell_type": "markdown",
      "source": [
        "##### 2. What is/are the insight(s) found from the chart?"
      ],
      "metadata": {
        "id": "lQ7QKXXCp7Bj"
      }
    },
    {
      "cell_type": "markdown",
      "source": [
        "1. Hotel Type Distribution: The bar chart would show the distribution of different hotel types (e.g., resort hotel, city hotel) in the dataset. It can reveal the relative frequency or count of each type.\n",
        "\n",
        "2. Comparison of Hotel Types: The chart enables a visual comparison of the occurrence of different hotel types. You can see if one type dominates the dataset or if there is a relatively even distribution among various types.\n",
        "\n",
        "3. Popular Hotel Type: The tallest bar in the chart represents the most frequent hotel type. By comparing the heights of the bars, you can quickly identify the most popular hotel type in the dataset."
      ],
      "metadata": {
        "id": "C_j1G7yiqdRP"
      }
    },
    {
      "cell_type": "markdown",
      "source": [
        "##### 3. Will the gained insights help creating a positive business impact?\n",
        "Are there any insights that lead to negative growth? Justify with specific reason."
      ],
      "metadata": {
        "id": "448CDAPjqfQr"
      }
    },
    {
      "cell_type": "markdown",
      "source": [
        "Insights into average daily rates (ADR) and room type preferences can aid revenue management decisions. Hotels can adjust pricing strategies based on demand patterns, seasons, and customer segments, optimizing revenue and maximizing profitability.\n",
        "\n",
        "Identifying repeated guests and understanding factors influencing customer loyalty can help hotels implement loyalty programs and incentives to retain valued customers. Loyal guests are more likely to make repeat bookings, leading to a stable revenue stream."
      ],
      "metadata": {
        "id": "3cspy4FjqxJW"
      }
    },
    {
      "cell_type": "markdown",
      "source": [
        "#### Chart - 2"
      ],
      "metadata": {
        "id": "KSlN3yHqYklG"
      }
    },
    {
      "cell_type": "code",
      "source": [
        "# Filter only the relevant columns\n",
        "booking_data = df[['arrival_date_month', 'is_canceled']]\n",
        "\n",
        "# Group the data by month and calculate the cancellation rate for each month\n",
        "cancellation_rate = booking_data.groupby('arrival_date_month')['is_canceled'].mean()\n",
        "\n",
        "# Create a bar plot using Seaborn\n",
        "plt.figure(figsize=(10, 6))\n",
        "sns.barplot(x=cancellation_rate.index, y=cancellation_rate.values * 100)\n",
        "plt.xlabel('Month')\n",
        "plt.ylabel('Cancellation Rate (%)')\n",
        "plt.title('Cancellation Rate by Month')\n",
        "plt.xticks(rotation=45)\n",
        "plt.show()\n"
      ],
      "metadata": {
        "id": "R4YgtaqtYklH"
      },
      "execution_count": null,
      "outputs": []
    },
    {
      "cell_type": "markdown",
      "source": [
        "1.Why did you pick the specific chart?"
      ],
      "metadata": {
        "id": "zCX2hD9whiLn"
      }
    },
    {
      "cell_type": "markdown",
      "source": [],
      "metadata": {
        "id": "P3_7jVxPhuPi"
      }
    },
    {
      "cell_type": "markdown",
      "source": [
        "##### 2. What is/are the insight(s) found from the chart?"
      ],
      "metadata": {
        "id": "ijmpgYnKYklI"
      }
    },
    {
      "cell_type": "markdown",
      "source": [
        "Answer Here"
      ],
      "metadata": {
        "id": "PSx9atu2YklI"
      }
    },
    {
      "cell_type": "markdown",
      "source": [
        "##### 3. Will the gained insights help creating a positive business impact?\n",
        "Are there any insights that lead to negative growth? Justify with specific reason."
      ],
      "metadata": {
        "id": "-JiQyfWJYklI"
      }
    },
    {
      "cell_type": "markdown",
      "source": [
        "Answer Here"
      ],
      "metadata": {
        "id": "BcBbebzrYklV"
      }
    },
    {
      "cell_type": "markdown",
      "source": [
        "#### Chart - 3"
      ],
      "metadata": {
        "id": "EM7whBJCYoAo"
      }
    },
    {
      "cell_type": "code",
      "source": [
        "# Chart - 3 visualization code\n",
        "\n",
        "guest_data = df[['adults', 'children', 'babies']]\n",
        "\n",
        "guest_data['total_guests'] = guest_data['adults'] + guest_data['children'] + guest_data['babies']\n",
        "\n",
        "# Create a bar plot using Seaborn\n",
        "plt.figure(figsize=(10, 6))\n",
        "sns.barplot(x=guest_data.columns[:-1], y=guest_data.iloc[:, :-1].sum(), palette='pastel')\n",
        "plt.xlabel('Guest Type')\n",
        "plt.ylabel('Number of Guests')\n",
        "plt.title('Distribution of Number of Adults, Children, and Babies')\n",
        "plt.show()\n"
      ],
      "metadata": {
        "id": "t6GMdE67YoAp"
      },
      "execution_count": null,
      "outputs": []
    },
    {
      "cell_type": "markdown",
      "source": [
        "\n",
        "##### 1. Why did you pick the specific chart?"
      ],
      "metadata": {
        "id": "fge-S5ZAYoAp"
      }
    },
    {
      "cell_type": "markdown",
      "source": [
        "1. Bar charts are effective for comparing values across different categories, such as the number of guests in each group (adults, children, babies). Each bar represents a specific category, and the length of the bar directly corresponds to the quantity it represents.\n",
        "\n",
        "2. The data in this case is discrete, as we are counting the number of individuals in distinct categories (adults, children, babies). Bar charts are well-suited for visualizing such data.\n"
      ],
      "metadata": {
        "id": "5dBItgRVYoAp"
      }
    },
    {
      "cell_type": "markdown",
      "source": [
        "##### 2. What is/are the insight(s) found from the chart?"
      ],
      "metadata": {
        "id": "85gYPyotYoAp"
      }
    },
    {
      "cell_type": "markdown",
      "source": [
        "1. If there is a significant portion of children and babies in the chart, it indicates that families with children and infants frequently visit the hotel or location.\n",
        "\n",
        "2. Depending on the dataset and the nature of the hospitality industry, you might notice seasonal variations in the number of children and babies. For example, family travel might increase during school holidays or specific seasons."
      ],
      "metadata": {
        "id": "4jstXR6OYoAp"
      }
    },
    {
      "cell_type": "markdown",
      "source": [
        "##### 3. Will the gained insights help creating a positive business impact?\n",
        "Are there any insights that lead to negative growth? Justify with specific reason."
      ],
      "metadata": {
        "id": "RoGjAbkUYoAp"
      }
    },
    {
      "cell_type": "markdown",
      "source": [
        "Answer Here"
      ],
      "metadata": {
        "id": "zfJ8IqMcYoAp"
      }
    },
    {
      "cell_type": "markdown",
      "source": [
        "#### Chart - 4"
      ],
      "metadata": {
        "id": "4Of9eVA-YrdM"
      }
    },
    {
      "cell_type": "code",
      "source": [
        "# Chart - 4 visualization code\n",
        "\n",
        "total_booked = df[df['is_canceled'] == 0]['hotel'].count()\n",
        "\n",
        "total_canceled = df[df['is_canceled'] == 1]['hotel'].count()\n",
        "\n",
        "# Create a pie chart using Seaborn and Matplotlib\n",
        "plt.figure(figsize=(8, 8))\n",
        "sns.set_palette(\"pastel\")\n",
        "plt.pie([total_booked, total_canceled], labels=['Booked', 'Canceled'], autopct='%1.1f%%', startangle=140)\n",
        "plt.axis('equal')\n",
        "plt.title('Total Hotel Rooms Booked vs. Canceled')\n",
        "plt.show()\n"
      ],
      "metadata": {
        "id": "irlUoxc8YrdO"
      },
      "execution_count": null,
      "outputs": []
    },
    {
      "cell_type": "markdown",
      "source": [
        "##### 1. Why did you pick the specific chart?"
      ],
      "metadata": {
        "id": "iky9q4vBYrdO"
      }
    },
    {
      "cell_type": "markdown",
      "source": [
        "For the dataset with columns 'booked', 'canceled', the pie chart was chosen as it can effectively show the proportion of each category relative to the whole total number of guests. Pie charts are particularly useful when you want to visualize the contribution of different categories to a whole dataset and compare their proportions.\n",
        "\n"
      ],
      "metadata": {
        "id": "aJRCwT6DYrdO"
      }
    },
    {
      "cell_type": "markdown",
      "source": [
        "##### 2. What is/are the insight(s) found from the chart?"
      ],
      "metadata": {
        "id": "F6T5p64dYrdO"
      }
    },
    {
      "cell_type": "markdown",
      "source": [
        "1. The pie chart can provide a visual representation of the proportion of hotel rooms booked and the proportion of rooms that were canceled. If the canceled slice is relatively larger, it might indicate a higher cancellation rate, which could be an area of concern for the hotel management.\n",
        "\n",
        "2. Analyzing the proportion of canceled rooms relative to booked rooms can reveal any patterns in cancellations. For example, you might observe higher cancellation rates during specific seasons or on certain days of the week."
      ],
      "metadata": {
        "id": "Xx8WAJvtYrdO"
      }
    },
    {
      "cell_type": "markdown",
      "source": [
        "##### 3. Will the gained insights help creating a positive business impact?\n",
        "Are there any insights that lead to negative growth? Justify with specific reason."
      ],
      "metadata": {
        "id": "y-Ehk30pYrdP"
      }
    },
    {
      "cell_type": "markdown",
      "source": [
        "**Positive Business Impact:**\n",
        "\n",
        "Optimized Booking Strategies: By understanding the booking vs. cancellation rates, the hotel management can optimize their booking strategies to reduce cancellations and increase successful bookings. This could lead to higher occupancy rates and increased revenue.\n",
        "\n",
        "Customer Experience Improvement: Analyzing the factors contributing to cancellations can help identify pain points in the customer experience. Addressing these issues and offering flexible booking policies could enhance customer satisfaction and loyalty.\n",
        "\n",
        "**Insights Leading to Negative Growth:**\n",
        "\n",
        "High Cancellation Rate: If the pie chart reveals a significantly larger canceled slice, it may indicate a high cancellation rate. A high cancellation rate could lead to revenue loss and reduced profitability if not managed effectively.\n",
        "\n",
        "Inefficient Operations: A large number of canceled rooms might be a sign of inefficient operations, such as overbooking or mismanagement of inventory. This can lead to customer dissatisfaction and negative reviews."
      ],
      "metadata": {
        "id": "jLNxxz7MYrdP"
      }
    },
    {
      "cell_type": "markdown",
      "source": [
        "#### Chart - 5"
      ],
      "metadata": {
        "id": "bamQiAODYuh1"
      }
    },
    {
      "cell_type": "code",
      "source": [
        "# Chart - 5 visualization code\n",
        "# Create a bar plot using Seaborn\n",
        "\n",
        "plt.figure(figsize=(10, 6))\n",
        "sns.countplot(data=df, x='market_segment', palette='pastel')\n",
        "plt.xlabel('Market Segment')\n",
        "plt.ylabel('Count')\n",
        "plt.title('Distribution of Market Segments')\n",
        "plt.xticks(rotation=45, ha='right')\n",
        "plt.tight_layout()\n",
        "plt.show()\n"
      ],
      "metadata": {
        "id": "TIJwrbroYuh3"
      },
      "execution_count": null,
      "outputs": []
    },
    {
      "cell_type": "markdown",
      "source": [
        "##### 1. Why did you pick the specific chart?"
      ],
      "metadata": {
        "id": "QHF8YVU7Yuh3"
      }
    },
    {
      "cell_type": "markdown",
      "source": [
        "The columns 'market_segment', 'distribution_channel', and 'is_repeated_guest' are categorical variables. Bar plots are a suitable choice for visualizing the distribution of categorical data because they allow us to compare the frequency or count of different categories. Bar plots work well with discrete data, which is the case for categorical variables. Each bar represents a separate category, and the height of the bar corresponds to the count or frequency of that category.\n",
        "\n",
        "The x-axis labels can be easily rotated and adjusted to ensure better readability, especially when dealing with long category names."
      ],
      "metadata": {
        "id": "dcxuIMRPYuh3"
      }
    },
    {
      "cell_type": "markdown",
      "source": [
        "##### 2. What is/are the insight(s) found from the chart?"
      ],
      "metadata": {
        "id": "GwzvFGzlYuh3"
      }
    },
    {
      "cell_type": "markdown",
      "source": [
        "Popular Segments: The bar plot can reveal which market segments are the most popular or have the highest occurrence in the dataset. This insight can help in identifying the key customer segments that contribute significantly to the hotel's business.\n",
        "\n",
        "Niche Segments: The chart may also highlight niche market segments with a relatively smaller count. Understanding these niche segments can help in tailoring marketing strategies to target specific customer groups."
      ],
      "metadata": {
        "id": "uyqkiB8YYuh3"
      }
    },
    {
      "cell_type": "markdown",
      "source": [
        "##### 3. Will the gained insights help creating a positive business impact?\n",
        "Are there any insights that lead to negative growth? Justify with specific reason."
      ],
      "metadata": {
        "id": "qYpmQ266Yuh3"
      }
    },
    {
      "cell_type": "markdown",
      "source": [
        "Answer Here"
      ],
      "metadata": {
        "id": "_WtzZ_hCYuh4"
      }
    },
    {
      "cell_type": "markdown",
      "source": [
        "#### Chart - 6"
      ],
      "metadata": {
        "id": "x-EpHcCOp1ci"
      }
    },
    {
      "cell_type": "code",
      "source": [
        "# Chart - 6 visualization code\n",
        "# Create a figure with multiple subplots\n",
        "fig, axes = plt.subplots(1, 3, figsize=(15, 5))\n",
        "\n",
        "# Plot for 'market_segment'\n",
        "df['market_segment'].value_counts().plot(kind='pie', autopct='%1.1f%%', ax=axes[0])\n",
        "axes[0].set_aspect('equal')\n",
        "axes[0].set_title('Market Segment')\n",
        "\n",
        "# Plot for 'distribution_channel'\n",
        "df['distribution_channel'].value_counts().plot(kind='pie', autopct='%1.1f%%', ax=axes[1])\n",
        "axes[1].set_aspect('equal')\n",
        "axes[1].set_title('Distribution Channel')\n",
        "\n",
        "# Plot for 'is_repeated_guest'\n",
        "df['is_repeated_guest'].value_counts().plot(kind='pie', autopct='%1.1f%%', ax=axes[2])\n",
        "axes[2].set_aspect('equal')\n",
        "axes[2].set_title('Is Repeated Guest')\n",
        "\n",
        "plt.tight_layout()\n",
        "plt.show()\n",
        "\n",
        "\n"
      ],
      "metadata": {
        "id": "mAQTIvtqp1cj"
      },
      "execution_count": null,
      "outputs": []
    },
    {
      "cell_type": "markdown",
      "source": [
        "##### 1. Why did you pick the specific chart?"
      ],
      "metadata": {
        "id": "X_VqEhTip1ck"
      }
    },
    {
      "cell_type": "markdown",
      "source": [
        "while the pie chart was provided as a response to the specific request, it's essential to consider the nature of the data, the number of categories, and the specific insights you want to convey when selecting a chart type. Other chart types, such as bar plots, can also effectively visualize the distribution of categorical data and might be more appropriate for complex datasets or when dealing with multiple categories."
      ],
      "metadata": {
        "id": "-vsMzt_np1ck"
      }
    },
    {
      "cell_type": "markdown",
      "source": [
        "##### 2. What is/are the insight(s) found from the chart?"
      ],
      "metadata": {
        "id": "8zGJKyg5p1ck"
      }
    },
    {
      "cell_type": "markdown",
      "source": [
        "Answer Here"
      ],
      "metadata": {
        "id": "ZYdMsrqVp1ck"
      }
    },
    {
      "cell_type": "markdown",
      "source": [
        "##### 3. Will the gained insights help creating a positive business impact?\n",
        "Are there any insights that lead to negative growth? Justify with specific reason."
      ],
      "metadata": {
        "id": "PVzmfK_Ep1ck"
      }
    },
    {
      "cell_type": "markdown",
      "source": [
        "Answer Here"
      ],
      "metadata": {
        "id": "druuKYZpp1ck"
      }
    },
    {
      "cell_type": "markdown",
      "source": [
        "#### Chart - 7"
      ],
      "metadata": {
        "id": "n3dbpmDWp1ck"
      }
    },
    {
      "cell_type": "code",
      "source": [
        "# Chart - 7 visualization code\n",
        "\n",
        "df['arrival_date'] = pd.to_datetime(df[['arrival_date_year', 'arrival_date_month', 'arrival_date_day_of_month']].astype(str).agg('-'.join, axis=1))\n",
        "\n",
        "# Extract year, month, week, and date information from the 'arrival_date' columns\n",
        "df['year'] = df['arrival_date'].dt.year\n",
        "df['month'] = df['arrival_date'].dt.month\n",
        "df['week'] = df['arrival_date'].dt.isocalendar().week\n",
        "df['date'] = df['arrival_date'].dt.date\n",
        "\n",
        "# Create a figure with multiple subplots\n",
        "fig, axes = plt.subplots(2, 2, figsize=(15, 10))\n",
        "\n",
        "# Plot for 'year'\n",
        "sns.countplot(data=df, x='year', palette='pastel', ax=axes[0, 0])\n",
        "axes[0, 0].set_xlabel('Year')\n",
        "axes[0, 0].set_ylabel('Count')\n",
        "axes[0, 0].set_title('Distribution of Bookings across Years')\n",
        "\n",
        "# Plot for 'month'\n",
        "sns.countplot(data=df, x='month', palette='pastel', ax=axes[0, 1])\n",
        "axes[0, 1].set_xlabel('Month')\n",
        "axes[0, 1].set_ylabel('Count')\n",
        "axes[0, 1].set_title('Distribution of Bookings across Months')\n",
        "\n",
        "# Plot for 'week'\n",
        "sns.countplot(data=df, x='week', palette='pastel', ax=axes[1, 0])\n",
        "axes[1, 0].set_xlabel('Week')\n",
        "axes[1, 0].set_ylabel('Count')\n",
        "axes[1, 0].set_title('Distribution of Bookings across Weeks')\n",
        "\n",
        "# Plot for 'date'\n",
        "sns.countplot(data=df, x='date', palette='pastel', ax=axes[1, 1])\n",
        "axes[1, 1].set_xlabel('Date')\n",
        "axes[1, 1].set_ylabel('Count')\n",
        "axes[1, 1].set_title('Distribution of Bookings across Dates')\n",
        "axes[1, 1].tick_params(axis='x', rotation=45)\n",
        "\n",
        "plt.tight_layout()\n",
        "plt.show()\n"
      ],
      "metadata": {
        "id": "bwevp1tKp1ck"
      },
      "execution_count": null,
      "outputs": []
    },
    {
      "cell_type": "markdown",
      "source": [
        "##### 1. Why did you pick the specific chart?"
      ],
      "metadata": {
        "id": "ylSl6qgtp1ck"
      }
    },
    {
      "cell_type": "markdown",
      "source": [
        "A count plot is suitable for visualizing the distribution of bookings across different years. It displays the count of occurrences for each unique value in the 'year' column. The plot gives a clear overview of the number of bookings made in each year, making it easy to identify any trends or patterns over time."
      ],
      "metadata": {
        "id": "m2xqNkiQp1ck"
      }
    },
    {
      "cell_type": "markdown",
      "source": [
        "##### 2. What is/are the insight(s) found from the chart?"
      ],
      "metadata": {
        "id": "ZWILFDl5p1ck"
      }
    },
    {
      "cell_type": "markdown",
      "source": [
        "Answer Here"
      ],
      "metadata": {
        "id": "x-lUsV2mp1ck"
      }
    },
    {
      "cell_type": "markdown",
      "source": [
        "##### 3. Will the gained insights help creating a positive business impact?\n",
        "Are there any insights that lead to negative growth? Justify with specific reason."
      ],
      "metadata": {
        "id": "M7G43BXep1ck"
      }
    },
    {
      "cell_type": "markdown",
      "source": [
        "Answer Here"
      ],
      "metadata": {
        "id": "5wwDJXsLp1cl"
      }
    },
    {
      "cell_type": "code",
      "source": [],
      "metadata": {
        "id": "MT-5poBI0qAn"
      },
      "execution_count": null,
      "outputs": []
    },
    {
      "cell_type": "markdown",
      "source": [
        "#### Chart - 8"
      ],
      "metadata": {
        "id": "WCyDiTPf0qde"
      }
    },
    {
      "cell_type": "code",
      "source": [
        "# Chart - 8 visualization code\n",
        "\n",
        "import pandas as pd\n",
        "import seaborn as sns\n",
        "import matplotlib.pyplot as plt\n",
        "\n",
        "# Assuming your data is stored in a pandas DataFrame 'df'\n",
        "\n",
        "# Convert 'arrival_date' to datetime in the correct format [year, month, day]\n",
        "df['arrival_date'] = pd.to_datetime(df[['arrival_date_year', 'arrival_date_month', 'arrival_date_day_of_month']].astype(str).agg('-'.join, axis=1))\n",
        "\n",
        "# Extract year, month, and day from 'arrival_date'\n",
        "df['year'] = df['arrival_date'].dt.year\n",
        "df['month'] = df['arrival_date'].dt.month\n",
        "df['day'] = df['arrival_date'].dt.day\n",
        "\n",
        "# Calculate the average daily rate for each date\n",
        "daily_rate_df = df.groupby(['year', 'month', 'day'])['adr'].mean().reset_index()\n",
        "\n",
        "# Combine year, month, and day into a single 'date' column\n",
        "daily_rate_df['date'] = pd.to_datetime(daily_rate_df[['year', 'month', 'day']])\n",
        "\n",
        "# Create the line plot\n",
        "plt.figure(figsize=(12, 6))\n",
        "sns.barplot(data=daily_rate_df, x='date', y='adr', color='b')\n",
        "plt.xlabel('Date')\n",
        "plt.ylabel('Average Daily Rate')\n",
        "plt.title('Average Daily Rate Over Time')\n",
        "plt.xticks(rotation=45)\n",
        "\n",
        "# Show the plot\n",
        "plt.tight_layout()\n",
        "plt.show()\n",
        "\n"
      ],
      "metadata": {
        "id": "nhsxbZre0qde"
      },
      "execution_count": null,
      "outputs": []
    },
    {
      "cell_type": "markdown",
      "source": [
        "##### 1. Why did you pick the specific chart?"
      ],
      "metadata": {
        "id": "uMkaOIyV0qdf"
      }
    },
    {
      "cell_type": "markdown",
      "source": [
        "Answer Here"
      ],
      "metadata": {
        "id": "CWglWvcK0qdf"
      }
    },
    {
      "cell_type": "markdown",
      "source": [
        "##### 2. What is/are the insight(s) found from the chart?"
      ],
      "metadata": {
        "id": "EbzGvQYR0qdf"
      }
    },
    {
      "cell_type": "markdown",
      "source": [
        "Answer Here"
      ],
      "metadata": {
        "id": "5nPeMYHp0qdg"
      }
    },
    {
      "cell_type": "markdown",
      "source": [
        "##### 3. Will the gained insights help creating a positive business impact?\n",
        "Are there any insights that lead to negative growth? Justify with specific reason."
      ],
      "metadata": {
        "id": "BbYiIUqj0qdg"
      }
    },
    {
      "cell_type": "markdown",
      "source": [
        "Answer Here"
      ],
      "metadata": {
        "id": "NAlaF7O20qdg"
      }
    },
    {
      "cell_type": "markdown",
      "source": [
        "#### Chart - 9"
      ],
      "metadata": {
        "id": "Ag9LCva-p1cl"
      }
    },
    {
      "cell_type": "code",
      "source": [
        "# Chart - 9 visualization code\n",
        "\n",
        "df['total_cost'] = df['adr'] * (df['stays_in_weekend_nights'] + df['stays_in_week_nights'])\n",
        "average_daily_rate = df.groupby('stays_in_week_nights')['total_cost'].mean().reset_index()\n",
        "\n",
        "# Create a bar chart using Seaborn\n",
        "plt.figure(figsize=(10, 6))\n",
        "sns.barplot(data=average_daily_rate, x='stays_in_week_nights', y='total_cost', color='blue')\n",
        "plt.xlabel('Length of Stay (Nights)')\n",
        "plt.ylabel('Average Daily Rate (ADR)')\n",
        "plt.title('Average Daily Rate vs. Length of Stay')\n",
        "plt.grid(True)\n",
        "plt.show()\n"
      ],
      "metadata": {
        "id": "EUfxeq9-p1cl"
      },
      "execution_count": null,
      "outputs": []
    },
    {
      "cell_type": "markdown",
      "source": [
        "##### 1. Why did you pick the specific chart?"
      ],
      "metadata": {
        "id": "E6MkPsBcp1cl"
      }
    },
    {
      "cell_type": "markdown",
      "source": [
        "A bar plot is suitable for showing the average daily rate for each length of stay. It uses bars to represent the average values of ADR, making it easier to compare the ADR at different lengths of stay."
      ],
      "metadata": {
        "id": "V22bRsFWp1cl"
      }
    },
    {
      "cell_type": "markdown",
      "source": [
        "##### 2. What is/are the insight(s) found from the chart?"
      ],
      "metadata": {
        "id": "2cELzS2fp1cl"
      }
    },
    {
      "cell_type": "markdown",
      "source": [
        "1. In this bar plot, each bar represents the average daily rate for a specific length of stay, making it easy to compare the ADR values across different lengths of stay.\n",
        "\n",
        "2. You can use this bar chart to identify the optimal length of stay that offers the best daily rate. The highest bar on the chart corresponds to the length of stay with the highest average daily rate, which indicates the most favorable option for getting the best daily rate."
      ],
      "metadata": {
        "id": "ozQPc2_Ip1cl"
      }
    },
    {
      "cell_type": "markdown",
      "source": [
        "##### 3. Will the gained insights help creating a positive business impact?\n",
        "Are there any insights that lead to negative growth? Justify with specific reason."
      ],
      "metadata": {
        "id": "3MPXvC8up1cl"
      }
    },
    {
      "cell_type": "markdown",
      "source": [
        "Positive Business Impact:\n",
        "\n",
        "Optimal Pricing Strategies: The chart can help identify the length of stay that offers the highest average daily rate. Hotels can use this insight to adjust their pricing strategies and offer attractive deals for guests who stay for the optimal duration, potentially increasing revenue.\n",
        "\n",
        "Promotional Offers: Knowing the optimal length of stay can aid in designing targeted promotional offers to encourage guests to stay for the identified duration. For example, hotels can offer discounts, special packages, or added benefits for guests who book stays matching the optimal length.\n",
        "\n",
        "Negative Growth Insights:\n",
        "\n",
        "Length of Stay Restrictions: While focusing on optimizing the length of stay for better daily rates, there is a risk of discouraging shorter or longer stays. Restricting booking options for guests might lead to a negative impact on guest satisfaction and potentially result in fewer bookings overall."
      ],
      "metadata": {
        "id": "GL8l1tdLp1cl"
      }
    },
    {
      "cell_type": "markdown",
      "source": [
        "#### Chart - 10 - Correlation Heatmap"
      ],
      "metadata": {
        "id": "NC_X3p0fY2L0"
      }
    },
    {
      "cell_type": "code",
      "source": [
        "# Correlation Heatmap visualization code\n",
        "\n",
        "columns_for_correlation = [\n",
        "    'is_canceled', 'lead_time', 'arrival_date_year', 'arrival_date_month', 'arrival_date_week_number',\n",
        "    'arrival_date_day_of_month', 'stays_in_weekend_nights', 'stays_in_week_nights', 'adults', 'children',\n",
        "    'babies', 'meal', 'country', 'market_segment', 'distribution_channel', 'is_repeated_guest',\n",
        "    'previous_cancellations', 'previous_bookings_not_canceled', 'reserved_room_type', 'assigned_room_type',\n",
        "    'booking_changes', 'deposit_type', 'agent', 'company', 'days_in_waiting_list', 'customer_type',\n",
        "    'adr', 'required_car_parking_spaces', 'total_of_special_requests'\n",
        "]\n",
        "\n",
        "# Create a correlation matrix\n",
        "correlation_matrix = df[columns_for_correlation].corr()\n",
        "\n",
        "# Create the correlation heatmap using Seaborn\n",
        "plt.figure(figsize=(12, 10))\n",
        "sns.heatmap(correlation_matrix, annot=True, cmap='coolwarm', fmt=\".2f\", linewidths=0.5)\n",
        "plt.title('Correlation Heatmap')\n",
        "plt.show()\n"
      ],
      "metadata": {
        "id": "xyC9zolEZNRQ"
      },
      "execution_count": null,
      "outputs": []
    },
    {
      "cell_type": "markdown",
      "source": [
        "##### 1. Why did you pick the specific chart?"
      ],
      "metadata": {
        "id": "UV0SzAkaZNRQ"
      }
    },
    {
      "cell_type": "markdown",
      "source": [
        "The heatmap provides an intuitive and easy-to-interpret graphical representation of the correlation coefficients between pairs of features. It uses color gradients to show the strength and direction of the correlations, making it easier to identify patterns and relationships in the data."
      ],
      "metadata": {
        "id": "DVPuT8LYZNRQ"
      }
    },
    {
      "cell_type": "markdown",
      "source": [
        "##### 2. What is/are the insight(s) found from the chart?"
      ],
      "metadata": {
        "id": "YPEH6qLeZNRQ"
      }
    },
    {
      "cell_type": "markdown",
      "source": [
        "In the heatmap, positive correlations are represented by dark colors, and negative correlations are represented by light colors. You can identify pairs of features that have strong positive or negative correlations. For example, if the 'stays_in_week_nights' and 'stays_in_weekend_nights' columns have a strong positive correlation, it suggests that guests tend to book longer stays when they also stay on weekends."
      ],
      "metadata": {
        "id": "bfSqtnDqZNRR"
      }
    },
    {
      "cell_type": "markdown",
      "source": [
        "#### Chart - 11 - Pair Plot"
      ],
      "metadata": {
        "id": "q29F0dvdveiT"
      }
    },
    {
      "cell_type": "code",
      "source": [
        "# Pair Plot visualization code\n",
        "\n",
        "selected_columns = [\n",
        "    'is_canceled', 'lead_time', 'stays_in_weekend_nights', 'stays_in_week_nights',\n",
        "    'adults', 'children', 'babies', 'adr', 'total_of_special_requests'\n",
        "]\n",
        "\n",
        "# Create the pair plot using Seaborn\n",
        "sns.pairplot(df[selected_columns])\n",
        "plt.show()\n"
      ],
      "metadata": {
        "id": "o58-TEIhveiU"
      },
      "execution_count": null,
      "outputs": []
    },
    {
      "cell_type": "markdown",
      "source": [
        "##### 1. Why did you pick the specific chart?"
      ],
      "metadata": {
        "id": "EXh0U9oCveiU"
      }
    },
    {
      "cell_type": "markdown",
      "source": [
        "The pair plot allows you to compare multiple numerical variables simultaneously. It plots all possible pairwise scatter plots, which provides an overview of the relationships between different features in the dataset.\n",
        "\n",
        "Scatter plots in the pair plot can visually reveal any linear or non-linear correlations between pairs of variables. Positive correlations will show a general upward trend, while negative correlations will show a downward trend. Non-linear relationships might be evident through curved patterns."
      ],
      "metadata": {
        "id": "eMmPjTByveiU"
      }
    },
    {
      "cell_type": "markdown",
      "source": [
        "##### 2. What is/are the insight(s) found from the chart?"
      ],
      "metadata": {
        "id": "22aHeOlLveiV"
      }
    },
    {
      "cell_type": "markdown",
      "source": [
        "Outliers in the scatter plots can be easily spotted, which helps identify potential data points that deviate significantly from the general trend. These outliers may require further investigation to understand if they are valid data points or errors.\n",
        "\n",
        "The diagonal histograms show the distribution of each numerical variable individually. Understanding the distribution of variables can provide insights into their central tendency and spread. Skewed distributions, multimodal distributions, or the presence of extreme values can be observed."
      ],
      "metadata": {
        "id": "uPQ8RGwHveiV"
      }
    },
    {
      "cell_type": "markdown",
      "source": [
        "## **5. Solution to Business Objective**"
      ],
      "metadata": {
        "id": "JcMwzZxoAimU"
      }
    },
    {
      "cell_type": "markdown",
      "source": [
        "#### What do you suggest the client to achieve Business Objective ?\n",
        "Explain Briefly."
      ],
      "metadata": {
        "id": "8G2x9gOozGDZ"
      }
    },
    {
      "cell_type": "markdown",
      "source": [
        "Answer Here."
      ],
      "metadata": {
        "id": "pASKb0qOza21"
      }
    },
    {
      "cell_type": "markdown",
      "source": [
        "# **Conclusion**"
      ],
      "metadata": {
        "id": "gCX9965dhzqZ"
      }
    },
    {
      "cell_type": "markdown",
      "source": [
        "1. Booking Patterns: You can identify trends in hotel bookings over different years, months, weeks, and days of the month. This can help you understand peak booking seasons and plan staffing and resource allocation accordingly.\n",
        "\n",
        "2. Cancellation Analysis: By analyzing the 'is_canceled' column, you can gain insights into the factors that lead to booking cancellations. Understanding these reasons can help improve customer satisfaction and optimize hotel revenue management.\n",
        "\n",
        "3. Customer Demographics: Analyzing the 'adults', 'children', and 'babies' columns along with 'country' can provide insights into the demographics of guests visiting the hotel. This information can be used for targeted marketing and service customization.\n",
        "\n",
        "4. Market Segments: Analyzing the 'market_segment' column can help you understand the distribution of customers across different segments, such as online travel agents, corporate bookings, etc.\n",
        "\n",
        "5. Special Requests: By examining the 'total_of_special_requests' column, you can identify the most common special requests made by guests. This can inform hotel amenities and services to meet customer preferences.\n",
        "\n",
        "6. Revenue Analysis: Calculating the Average Daily Rate (ADR) using the 'adr' column can give you insights into the hotel's pricing strategy and revenue generation.\n",
        "\n",
        "7. Room Type Preferences: Analyzing the 'reserved_room_type' and 'assigned_room_type' columns can help you understand guest preferences for specific room types and evaluate any discrepancies between reserved and assigned rooms.\n",
        "\n",
        "8. Customer Loyalty: The 'is_repeated_guest' column can indicate the loyalty of guests, which can help in customer retention strategies.\n",
        "\n",
        "9. Deposit Types: Analyzing the 'deposit_type' column can provide insights into the types of deposit guests are willing to make, which can influence revenue and cancellation patterns."
      ],
      "metadata": {
        "id": "Fjb1IsQkh3yE"
      }
    },
    {
      "cell_type": "markdown",
      "source": [
        "### ***Hurrah! You have successfully completed your EDA Capstone Project !!!***"
      ],
      "metadata": {
        "id": "gIfDvo9L0UH2"
      }
    }
  ]
}